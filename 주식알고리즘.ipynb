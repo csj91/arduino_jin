{
  "nbformat": 4,
  "nbformat_minor": 0,
  "metadata": {
    "colab": {
      "provenance": [],
      "collapsed_sections": [],
      "authorship_tag": "ABX9TyNyZc9o01ZrI9A3F1u9PWMD",
      "include_colab_link": true
    },
    "kernelspec": {
      "name": "python3",
      "display_name": "Python 3"
    },
    "language_info": {
      "name": "python"
    }
  },
  "cells": [
    {
      "cell_type": "markdown",
      "metadata": {
        "id": "view-in-github",
        "colab_type": "text"
      },
      "source": [
        "<a href=\"https://colab.research.google.com/github/csj91/arduino_jin/blob/main/%EC%A3%BC%EC%8B%9D%EC%95%8C%EA%B3%A0%EB%A6%AC%EC%A6%98.ipynb\" target=\"_parent\"><img src=\"https://colab.research.google.com/assets/colab-badge.svg\" alt=\"Open In Colab\"/></a>"
      ]
    },
    {
      "cell_type": "code",
      "execution_count": null,
      "metadata": {
        "colab": {
          "base_uri": "https://localhost:8080/"
        },
        "id": "qvsz2uyxWQai",
        "outputId": "ef6ad9be-b5cf-4b4c-e421-02f6b78fbf67"
      },
      "outputs": [
        {
          "output_type": "execute_result",
          "data": {
            "text/plain": [
              "{'삼성전자': 56200, 'LG에너지솔루션': 482500, 'SK하이닉스': 91200}"
            ]
          },
          "metadata": {},
          "execution_count": 6
        }
      ],
      "source": [
        "현재가 = {}\n",
        "현재가['삼성전자'] = 56200\n",
        "현재가['LG에너지솔루션'] = 482500\n",
        "현재가['SK하이닉스'] = 91200\n",
        "현재가"
      ]
    },
    {
      "cell_type": "code",
      "source": [
        "list(현재가.keys())"
      ],
      "metadata": {
        "id": "T6DQjIBBWZ0d",
        "colab": {
          "base_uri": "https://localhost:8080/"
        },
        "outputId": "62de2cc0-2186-492f-d454-b643f8de3e4b"
      },
      "execution_count": null,
      "outputs": [
        {
          "output_type": "execute_result",
          "data": {
            "text/plain": [
              "['삼성전자', 'LG에너지솔루션', 'SK하이닉스']"
            ]
          },
          "metadata": {},
          "execution_count": 7
        }
      ]
    },
    {
      "cell_type": "code",
      "source": [
        "list(현재가.values())"
      ],
      "metadata": {
        "colab": {
          "base_uri": "https://localhost:8080/"
        },
        "id": "wdhQyi2NhnJu",
        "outputId": "485edf58-be4e-4754-bbdc-4cf0b1f34194"
      },
      "execution_count": null,
      "outputs": [
        {
          "output_type": "execute_result",
          "data": {
            "text/plain": [
              "[56200, 482500, 91200]"
            ]
          },
          "metadata": {},
          "execution_count": 8
        }
      ]
    },
    {
      "cell_type": "code",
      "source": [
        "'SK하이닉스' in 현재가.keys()"
      ],
      "metadata": {
        "colab": {
          "base_uri": "https://localhost:8080/"
        },
        "id": "R0gazla5jJM1",
        "outputId": "50e69b19-d10e-4e46-a319-8b29d2c1fd22"
      },
      "execution_count": null,
      "outputs": [
        {
          "output_type": "execute_result",
          "data": {
            "text/plain": [
              "True"
            ]
          },
          "metadata": {},
          "execution_count": 10
        }
      ]
    },
    {
      "cell_type": "code",
      "source": [
        "네이버종가 = [ 193500, 176500, 164000, 167000, 160000]\n",
        "네이버종가"
      ],
      "metadata": {
        "colab": {
          "base_uri": "https://localhost:8080/"
        },
        "id": "zgMb5B7WrwQv",
        "outputId": "9e9104bb-21ae-4a40-bf64-5a212085321e"
      },
      "execution_count": null,
      "outputs": [
        {
          "output_type": "execute_result",
          "data": {
            "text/plain": [
              "[193500, 176500, 164000, 167000, 160000]"
            ]
          },
          "metadata": {},
          "execution_count": 17
        }
      ]
    },
    {
      "cell_type": "code",
      "source": [
        "최저네이버종가 = min(네이버종가)\n",
        "print(최저네이버종가)\n",
        "최고네이버종가 = max(네이버종가)\n",
        "print(최고네이버종가)"
      ],
      "metadata": {
        "colab": {
          "base_uri": "https://localhost:8080/"
        },
        "id": "E0RuT1bLrvao",
        "outputId": "0f9b2077-aa8c-4c20-a246-5e8e90bd485d"
      },
      "execution_count": null,
      "outputs": [
        {
          "output_type": "stream",
          "name": "stdout",
          "text": [
            "160000\n",
            "193500\n"
          ]
        }
      ]
    },
    {
      "cell_type": "code",
      "source": [
        "가격차 = 최고네이버종가 - 최저네이버종가\n",
        "print(가격차)"
      ],
      "metadata": {
        "colab": {
          "base_uri": "https://localhost:8080/"
        },
        "id": "zWxgQzDlsJly",
        "outputId": "6c8a567d-c6e4-4f09-9c95-3f2f4e2aba1a"
      },
      "execution_count": null,
      "outputs": [
        {
          "output_type": "stream",
          "name": "stdout",
          "text": [
            "33500\n"
          ]
        }
      ]
    },
    {
      "cell_type": "code",
      "source": [
        "네이버종가dic = {'2022/09/30': 193500, '2022/10/07': 160000, '2022/10/06':167000,'2022/10/05': 164000,'2022/10/04': 176500 } "
      ],
      "metadata": {
        "id": "32sBdmhSDvCO"
      },
      "execution_count": null,
      "outputs": []
    },
    {
      "cell_type": "code",
      "source": [
        "print(네이버종가dic['2022/10/07'])"
      ],
      "metadata": {
        "colab": {
          "base_uri": "https://localhost:8080/"
        },
        "id": "b356FRbGELfz",
        "outputId": "7ae8fc39-b2c3-4882-d862-c2734a5a1788"
      },
      "execution_count": null,
      "outputs": [
        {
          "output_type": "stream",
          "name": "stdout",
          "text": [
            "160000\n"
          ]
        }
      ]
    },
    {
      "cell_type": "code",
      "source": [
        "네이버종가날짜 =list(네이버종가dic.keys())\n",
        "네이버종가가격 =list(네이버종가dic.values())"
      ],
      "metadata": {
        "id": "wLuZacfiHG-h"
      },
      "execution_count": null,
      "outputs": []
    },
    {
      "cell_type": "code",
      "source": [
        "price = int(input(\"가격을 입력하세요:\"))\n",
        "if price < 1000:\n",
        "        bid = 1\n",
        "elif price >= 1000 and price < 5000:\n",
        "        bid = 5\n",
        "elif price >= 5000 and price < 10000:\n",
        "        bid = 10\n",
        "elif price >= 10000 and price < 50000:\n",
        "        bid = 50\n",
        "elif price >= 50000 and price < 100000:\n",
        "        bid = 100\n",
        "elif price >= 100000 and price < 500000:\n",
        "        bid = 500\n",
        "elif price >= 500000:\n",
        "        bid = 1000\n",
        "\n",
        "bid"
      ],
      "metadata": {
        "colab": {
          "base_uri": "https://localhost:8080/"
        },
        "id": "mm9M9T3hUUh4",
        "outputId": "cbde5d9c-0e7e-4092-9546-4f97eb39fc4a"
      },
      "execution_count": null,
      "outputs": [
        {
          "name": "stdout",
          "output_type": "stream",
          "text": [
            "가격을 입력하세요:5000\n"
          ]
        },
        {
          "output_type": "execute_result",
          "data": {
            "text/plain": [
              "10"
            ]
          },
          "metadata": {},
          "execution_count": 65
        }
      ]
    },
    {
      "cell_type": "code",
      "source": [
        "for i in [0,1,2,3,4] :\n",
        "  print(i)"
      ],
      "metadata": {
        "colab": {
          "base_uri": "https://localhost:8080/"
        },
        "id": "DxBzP3QeWYxv",
        "outputId": "576e63c3-21a7-4585-924f-6eb9cb14604e"
      },
      "execution_count": null,
      "outputs": [
        {
          "output_type": "stream",
          "name": "stdout",
          "text": [
            "0\n",
            "1\n",
            "2\n",
            "3\n",
            "4\n"
          ]
        }
      ]
    },
    {
      "cell_type": "code",
      "source": [
        "for i in [ 1, 10 ,100, 1000] :\n",
        "\n",
        " print(i)"
      ],
      "metadata": {
        "colab": {
          "base_uri": "https://localhost:8080/"
        },
        "id": "EyB6zjehWs1n",
        "outputId": "9b3eb5a5-4a14-464b-df9d-100b8bb9f2bc"
      },
      "execution_count": null,
      "outputs": [
        {
          "output_type": "stream",
          "name": "stdout",
          "text": [
            "1\n",
            "10\n",
            "100\n",
            "1000\n"
          ]
        }
      ]
    },
    {
      "cell_type": "code",
      "source": [
        "list(range(1,10))"
      ],
      "metadata": {
        "colab": {
          "base_uri": "https://localhost:8080/"
        },
        "id": "G6gi6WvmX00F",
        "outputId": "4b9d6bd5-628a-441f-c8f5-082d0391aaf5"
      },
      "execution_count": null,
      "outputs": [
        {
          "output_type": "execute_result",
          "data": {
            "text/plain": [
              "[1, 2, 3, 4, 5, 6, 7, 8, 9]"
            ]
          },
          "metadata": {},
          "execution_count": 74
        }
      ]
    },
    {
      "cell_type": "code",
      "source": [
        "관심종목 = [ \"엔씨소프트\" , \"삼성전자\" , \"NAVER\" , \"카카오페이\" , \"CS\" , \"아모레퍼시픽\"]\n",
        "for 종목 in 관심종목 :\n",
        " print(\"%s : 매수 10\" % 종목)\n"
      ],
      "metadata": {
        "colab": {
          "base_uri": "https://localhost:8080/"
        },
        "id": "0G8lvKzVdhkQ",
        "outputId": "d567d278-74f0-46c8-82f2-e158b4447d21"
      },
      "execution_count": null,
      "outputs": [
        {
          "output_type": "stream",
          "name": "stdout",
          "text": [
            "엔씨소프트 : 매수 10\n",
            "삼성전자 : 매수 10\n",
            "NAVER : 매수 10\n",
            "카카오페이 : 매수 10\n",
            "CS : 매수 10\n",
            "아모레퍼시픽 : 매수 10\n"
          ]
        }
      ]
    },
    {
      "cell_type": "code",
      "source": [
        "관심종목 = { \"엔씨소프트\" : 5 , \"삼성전자\" : 10 , \"NAVER\" : 5 , \"카카오페이\" : 10 , \"CS\" : 20  , \"아모레퍼시픽\" : 20}"
      ],
      "metadata": {
        "id": "MDhf9XkxiJdC"
      },
      "execution_count": null,
      "outputs": []
    },
    {
      "cell_type": "code",
      "source": [
        "for 종목, 매수량 in 관심종목.items() : \n",
        " print(\" %s : 매수 %s \" % (종목,매수량))\n"
      ],
      "metadata": {
        "colab": {
          "base_uri": "https://localhost:8080/"
        },
        "id": "2THR2-Dvi6BZ",
        "outputId": "2fdfaca1-df98-4f9f-b49b-d7361ea09d74"
      },
      "execution_count": null,
      "outputs": [
        {
          "output_type": "stream",
          "name": "stdout",
          "text": [
            " 엔씨소프트 : 매수 5 \n",
            " 삼성전자 : 매수 10 \n",
            " NAVER : 매수 5 \n",
            " 카카오페이 : 매수 10 \n",
            " CS : 매수 20 \n",
            " 아모레퍼시픽 : 매수 20 \n"
          ]
        }
      ]
    },
    {
      "cell_type": "code",
      "source": [
        "for i in range(0,11):\n",
        " print(i)"
      ],
      "metadata": {
        "colab": {
          "base_uri": "https://localhost:8080/"
        },
        "id": "Vp2YUUAg1peh",
        "outputId": "0479da79-2d2e-48b4-802a-3af860bea382"
      },
      "execution_count": null,
      "outputs": [
        {
          "output_type": "stream",
          "name": "stdout",
          "text": [
            "0\n",
            "1\n",
            "2\n",
            "3\n",
            "4\n",
            "5\n",
            "6\n",
            "7\n",
            "8\n",
            "9\n",
            "10\n"
          ]
        }
      ]
    },
    {
      "cell_type": "code",
      "source": [
        "i= 0\n",
        "while i <= 10 :\n",
        " print(i)\n",
        " i = i+1"
      ],
      "metadata": {
        "colab": {
          "base_uri": "https://localhost:8080/"
        },
        "id": "D43X9vFk6xsg",
        "outputId": "95f01216-bdba-4310-a37a-a654c9c24f6e"
      },
      "execution_count": null,
      "outputs": [
        {
          "output_type": "stream",
          "name": "stdout",
          "text": [
            "0\n",
            "1\n",
            "2\n",
            "3\n",
            "4\n",
            "5\n",
            "6\n",
            "7\n",
            "8\n",
            "9\n",
            "10\n"
          ]
        }
      ]
    },
    {
      "cell_type": "code",
      "source": [
        "신풍제약종가 = 20050\n",
        "day = 1\n",
        "while day<6 :\n",
        " 신풍제약종가 = 신풍제약종가+신풍제약종가*0.3\n",
        " day = day + 1\n",
        " \n",
        "신풍제약종가"
      ],
      "metadata": {
        "colab": {
          "base_uri": "https://localhost:8080/"
        },
        "id": "hoVmSoEJ9KVw",
        "outputId": "9397d6bb-60cb-486e-9647-6ea66c7319c0"
      },
      "execution_count": null,
      "outputs": [
        {
          "output_type": "execute_result",
          "data": {
            "text/plain": [
              "74444.24650000001"
            ]
          },
          "metadata": {},
          "execution_count": 4
        }
      ]
    },
    {
      "cell_type": "code",
      "source": [
        "num = 0\n",
        "while num <= 10 :\n",
        " if num % 2 == 1 :\n",
        "  print(num)\n",
        " num += 1"
      ],
      "metadata": {
        "colab": {
          "base_uri": "https://localhost:8080/"
        },
        "id": "IiySiM29A7Sf",
        "outputId": "b7dd99ff-6198-40e1-ea8d-e39ecc6cfc54"
      },
      "execution_count": null,
      "outputs": [
        {
          "output_type": "stream",
          "name": "stdout",
          "text": [
            "1\n",
            "3\n",
            "5\n",
            "7\n",
            "9\n"
          ]
        }
      ]
    },
    {
      "cell_type": "code",
      "source": [
        "num = 0\n",
        "while num < 10 :\n",
        " print (num)\n",
        " if num == 5 :\n",
        "  break\n",
        " num += 1"
      ],
      "metadata": {
        "colab": {
          "base_uri": "https://localhost:8080/"
        },
        "id": "09EsxTU9Cn_f",
        "outputId": "fc3ae7a1-7621-447b-ea26-2d2a211df508"
      },
      "execution_count": null,
      "outputs": [
        {
          "output_type": "stream",
          "name": "stdout",
          "text": [
            "0\n",
            "1\n",
            "2\n",
            "3\n",
            "4\n",
            "5\n"
          ]
        }
      ]
    },
    {
      "cell_type": "code",
      "source": [
        "num = 0\n",
        "while num < 10 :\n",
        " num += 1\n",
        " if num == 5 : continue\n",
        " print(num)\n",
        " "
      ],
      "metadata": {
        "colab": {
          "base_uri": "https://localhost:8080/"
        },
        "id": "0s7T3mTEC0FA",
        "outputId": "da0a6c97-cf1b-41d8-95b9-05549da21d7e"
      },
      "execution_count": null,
      "outputs": [
        {
          "output_type": "stream",
          "name": "stdout",
          "text": [
            "1\n",
            "2\n",
            "3\n",
            "4\n",
            "6\n",
            "7\n",
            "8\n",
            "9\n",
            "10\n"
          ]
        }
      ]
    },
    {
      "cell_type": "code",
      "source": [
        "for i in range(0,5) :\n",
        " print('*', end='')"
      ],
      "metadata": {
        "colab": {
          "base_uri": "https://localhost:8080/"
        },
        "id": "lJdLpByHF_VH",
        "outputId": "441b8592-9508-48d5-9f2a-63aa1e82413e"
      },
      "execution_count": null,
      "outputs": [
        {
          "output_type": "stream",
          "name": "stdout",
          "text": [
            "*****"
          ]
        }
      ]
    },
    {
      "cell_type": "code",
      "source": [
        "for j in range(0,4) :\n",
        " for i in range(0,5) :\n",
        "  print('*', end='')\n",
        " print(\"\")"
      ],
      "metadata": {
        "colab": {
          "base_uri": "https://localhost:8080/"
        },
        "id": "OrMRwJGgGeHX",
        "outputId": "2fec3725-8ccc-472e-ac65-d1d67001dff8"
      },
      "execution_count": null,
      "outputs": [
        {
          "output_type": "stream",
          "name": "stdout",
          "text": [
            "*****\n",
            "*****\n",
            "*****\n",
            "*****\n"
          ]
        }
      ]
    },
    {
      "cell_type": "code",
      "source": [
        "for j in range(5) :\n",
        " for i in range(j+1) :\n",
        "  print('*', end='')\n",
        " print(\"\")"
      ],
      "metadata": {
        "colab": {
          "base_uri": "https://localhost:8080/"
        },
        "id": "LifK3rC5HkGv",
        "outputId": "8903e623-3a0c-4c6d-b3a0-3f75bfecc2d3"
      },
      "execution_count": null,
      "outputs": [
        {
          "output_type": "stream",
          "name": "stdout",
          "text": [
            "*\n",
            "**\n",
            "***\n",
            "****\n",
            "*****\n"
          ]
        }
      ]
    },
    {
      "cell_type": "code",
      "source": [
        "for j in range(5) :\n",
        " for i in range(5-j) :\n",
        "  print('*', end='')\n",
        " print(\"\")"
      ],
      "metadata": {
        "colab": {
          "base_uri": "https://localhost:8080/"
        },
        "id": "Xufaq0jgIP4X",
        "outputId": "fb490719-1f2d-438f-9f86-9b57adb63fca"
      },
      "execution_count": null,
      "outputs": [
        {
          "output_type": "stream",
          "name": "stdout",
          "text": [
            "*****\n",
            "****\n",
            "***\n",
            "**\n",
            "*\n"
          ]
        }
      ]
    },
    {
      "cell_type": "code",
      "source": [
        "for j in range(5) :\n",
        " for i in range(5-j) :\n",
        "  print('*', end='')\n",
        " print(\"\")"
      ],
      "metadata": {
        "id": "5VIOwDCnJtLP"
      },
      "execution_count": null,
      "outputs": []
    },
    {
      "cell_type": "code",
      "source": [
        "for j in range(5):\n",
        "        for i in range(4-j):\n",
        "                print(' ', end='')\n",
        "        for i in range(j+1):\n",
        "                print('*', end='')\n",
        "        print(\"\")"
      ],
      "metadata": {
        "colab": {
          "base_uri": "https://localhost:8080/"
        },
        "id": "egElel6DKXJG",
        "outputId": "54ee2092-9e2f-417c-967b-600224656154"
      },
      "execution_count": null,
      "outputs": [
        {
          "output_type": "stream",
          "name": "stdout",
          "text": [
            "    *\n",
            "   **\n",
            "  ***\n",
            " ****\n",
            "*****\n"
          ]
        }
      ]
    },
    {
      "cell_type": "code",
      "source": [
        "for j in range(5):\n",
        "        for i in range(j):\n",
        "                print(' ', end='')\n",
        "        for i in range(5-j):\n",
        "                print('*', end='')\n",
        "        print(\"\")"
      ],
      "metadata": {
        "colab": {
          "base_uri": "https://localhost:8080/"
        },
        "id": "PY9prGwRKjx2",
        "outputId": "cd14522f-5985-4f52-c8fa-8d9489ae3fd1"
      },
      "execution_count": null,
      "outputs": [
        {
          "output_type": "stream",
          "name": "stdout",
          "text": [
            "*****\n",
            " ****\n",
            "  ***\n",
            "   **\n",
            "    *\n"
          ]
        }
      ]
    },
    {
      "cell_type": "code",
      "source": [
        "for j in range(5):\n",
        "        for i in range(4-j):\n",
        "                print(' ', end='')\n",
        "        for i in range(2*(j+1)-1):\n",
        "                print('*', end='')\n",
        "        print(\"\")"
      ],
      "metadata": {
        "colab": {
          "base_uri": "https://localhost:8080/"
        },
        "id": "ZVAxOyUGLdcX",
        "outputId": "140faa7e-1f68-4053-c078-27635ab8cd4c"
      },
      "execution_count": null,
      "outputs": [
        {
          "output_type": "stream",
          "name": "stdout",
          "text": [
            "    *\n",
            "   ***\n",
            "  *****\n",
            " *******\n",
            "*********\n"
          ]
        }
      ]
    },
    {
      "cell_type": "code",
      "source": [
        "for j in range(5):\n",
        "        for i in range(j):\n",
        "                print(' ', end='')\n",
        "        for i in range(2*(5-j)-1):\n",
        "                print('*', end='')\n",
        "        print(\"\")"
      ],
      "metadata": {
        "colab": {
          "base_uri": "https://localhost:8080/"
        },
        "id": "Ci5HBH9RLkgH",
        "outputId": "ae6efd64-9805-41fa-ffef-76ae87403892"
      },
      "execution_count": null,
      "outputs": [
        {
          "output_type": "stream",
          "name": "stdout",
          "text": [
            "*********\n",
            " *******\n",
            "  *****\n",
            "   ***\n",
            "    *\n"
          ]
        }
      ]
    },
    {
      "cell_type": "code",
      "source": [
        "apart = [[101, 102, 103, 104],[201, 202, 203, 204],[301, 302, 302, 303], [401, 402, 403, 404]]\n",
        "arrears = [101, 203, 301, 404]\n",
        "for i in apart:\n",
        "        for j in i:\n",
        "                if j in arrears:\n",
        "                        continue\n",
        "                else:\n",
        "                        print(\"Newspaper delivery: \", j)"
      ],
      "metadata": {
        "colab": {
          "base_uri": "https://localhost:8080/"
        },
        "id": "wE_OhV0RMFuG",
        "outputId": "228b0ec3-f70f-4261-a865-77514b308147"
      },
      "execution_count": null,
      "outputs": [
        {
          "output_type": "stream",
          "name": "stdout",
          "text": [
            "Newspaper delivery:  102\n",
            "Newspaper delivery:  103\n",
            "Newspaper delivery:  104\n",
            "Newspaper delivery:  201\n",
            "Newspaper delivery:  202\n",
            "Newspaper delivery:  204\n",
            "Newspaper delivery:  302\n",
            "Newspaper delivery:  302\n",
            "Newspaper delivery:  303\n",
            "Newspaper delivery:  401\n",
            "Newspaper delivery:  402\n",
            "Newspaper delivery:  403\n"
          ]
        }
      ]
    },
    {
      "cell_type": "code",
      "source": [
        "apart[0]"
      ],
      "metadata": {
        "colab": {
          "base_uri": "https://localhost:8080/"
        },
        "id": "0peJffgisDES",
        "outputId": "aec65730-c990-42df-f643-d685ade0fae7"
      },
      "execution_count": null,
      "outputs": [
        {
          "output_type": "execute_result",
          "data": {
            "text/plain": [
              "[101, 102, 103, 104]"
            ]
          },
          "metadata": {},
          "execution_count": 10
        }
      ]
    },
    {
      "cell_type": "code",
      "source": [
        "for i in apart :\n",
        "  for j in i :\n",
        "    if j in arrears : \n",
        "       continue\n",
        "    print(j)"
      ],
      "metadata": {
        "colab": {
          "base_uri": "https://localhost:8080/"
        },
        "id": "jjuYNRWhsrQS",
        "outputId": "2a2fdbfa-65d9-459f-8852-47ce22ae8569"
      },
      "execution_count": null,
      "outputs": [
        {
          "output_type": "stream",
          "name": "stdout",
          "text": [
            "102\n",
            "103\n",
            "104\n",
            "201\n",
            "202\n",
            "204\n",
            "302\n",
            "302\n",
            "303\n",
            "401\n",
            "402\n",
            "403\n"
          ]
        }
      ]
    },
    {
      "cell_type": "code",
      "source": [
        "관심종목 = ['삼성전자', '카카오' , 'NAVER']\n",
        "for i in 관심종목 :\n",
        " print(i)"
      ],
      "metadata": {
        "colab": {
          "base_uri": "https://localhost:8080/"
        },
        "id": "KTVbZLAmxrnR",
        "outputId": "60b550df-49b5-42c3-f4f8-d6e11df25d05"
      },
      "execution_count": null,
      "outputs": [
        {
          "output_type": "stream",
          "name": "stdout",
          "text": [
            "삼성전자\n",
            "카카오\n",
            "NAVER\n"
          ]
        }
      ]
    },
    {
      "cell_type": "code",
      "source": [
        "관심종목 = [['삼성전자', '삼성SDI' , '삼성중공업' ] , ['카카오' , '카카오페이', '카카오뱅크'] , [ '현대차', '현대모비스', '현대중공업']]\n",
        "for i in 관심종목 : \n",
        "  for j in i :\n",
        "    print(j)"
      ],
      "metadata": {
        "colab": {
          "base_uri": "https://localhost:8080/"
        },
        "id": "6wsNfDawz_fx",
        "outputId": "fabd0d50-7f7d-41b9-a116-be3eea6eb5e0"
      },
      "execution_count": null,
      "outputs": [
        {
          "output_type": "stream",
          "name": "stdout",
          "text": [
            "삼성전자\n",
            "삼성SDI\n",
            "삼성중공업\n",
            "카카오\n",
            "카카오페이\n",
            "카카오뱅크\n",
            "현대차\n",
            "현대모비스\n",
            "현대중공업\n"
          ]
        }
      ]
    },
    {
      "cell_type": "code",
      "source": [
        "def 삼성전자_ntime(n) :\n",
        " for i in range(n):\n",
        "  print('삼성전자')\n",
        "\n",
        "삼성전자_ntime(3)"
      ],
      "metadata": {
        "colab": {
          "base_uri": "https://localhost:8080/"
        },
        "id": "3pFNbhPp0QXQ",
        "outputId": "2994e0ab-5ace-4f6b-8971-ac8d29fc25f3"
      },
      "execution_count": null,
      "outputs": [
        {
          "output_type": "stream",
          "name": "stdout",
          "text": [
            "삼성전자\n",
            "삼성전자\n",
            "삼성전자\n"
          ]
        }
      ]
    },
    {
      "cell_type": "code",
      "source": [
        "def upper_lower_multical(price) : \n",
        " rate = price * 0.3\n",
        " upper = price + rate\n",
        " lower = price - rate\n",
        " return (upper,lower)\n",
        "\n",
        "upper_lower_multical(10000)\n"
      ],
      "metadata": {
        "colab": {
          "base_uri": "https://localhost:8080/"
        },
        "id": "VJJCCKWoI91Y",
        "outputId": "abbf63a8-5780-4273-e2e7-4ed25e662ebe"
      },
      "execution_count": null,
      "outputs": [
        {
          "output_type": "execute_result",
          "data": {
            "text/plain": [
              "(13000.0, 7000.0)"
            ]
          },
          "metadata": {},
          "execution_count": 74
        }
      ]
    },
    {
      "cell_type": "code",
      "source": [
        "(상한가, 하한가) = upper_lower_multical(10000)\n",
        "상한가"
      ],
      "metadata": {
        "id": "zVCSmliONG6Q",
        "outputId": "54b98f2a-6aea-4f76-dc32-2813ce2a4bee",
        "colab": {
          "base_uri": "https://localhost:8080/"
        }
      },
      "execution_count": null,
      "outputs": [
        {
          "output_type": "execute_result",
          "data": {
            "text/plain": [
              "13000.0"
            ]
          },
          "metadata": {},
          "execution_count": 73
        }
      ]
    },
    {
      "cell_type": "code",
      "source": [
        "[삼성,엘지] = [100, 200]\n",
        "\n",
        "삼성"
      ],
      "metadata": {
        "colab": {
          "base_uri": "https://localhost:8080/"
        },
        "id": "0Dba-mDUKVj4",
        "outputId": "aaf74c3f-640f-4e42-b056-c7bf8653056c"
      },
      "execution_count": null,
      "outputs": [
        {
          "output_type": "execute_result",
          "data": {
            "text/plain": [
              "100"
            ]
          },
          "metadata": {},
          "execution_count": 72
        }
      ]
    },
    {
      "cell_type": "code",
      "source": [
        "import time"
      ],
      "metadata": {
        "id": "MpdygcTxwrD2"
      },
      "execution_count": null,
      "outputs": []
    },
    {
      "cell_type": "code",
      "source": [
        "time.time()"
      ],
      "metadata": {
        "colab": {
          "base_uri": "https://localhost:8080/"
        },
        "id": "HnwriPo5wwwm",
        "outputId": "5035bade-386d-4f92-ec27-3b53bd9e9399"
      },
      "execution_count": null,
      "outputs": [
        {
          "output_type": "execute_result",
          "data": {
            "text/plain": [
              "1665322465.798376"
            ]
          },
          "metadata": {},
          "execution_count": 5
        }
      ]
    },
    {
      "cell_type": "code",
      "source": [
        "time.ctime()"
      ],
      "metadata": {
        "colab": {
          "base_uri": "https://localhost:8080/",
          "height": 35
        },
        "id": "ll0KbNDqw0Hm",
        "outputId": "94adc1af-5b38-475f-bf83-0086b4c382f3"
      },
      "execution_count": null,
      "outputs": [
        {
          "output_type": "execute_result",
          "data": {
            "text/plain": [
              "'Sun Oct  9 13:36:11 2022'"
            ],
            "application/vnd.google.colaboratory.intrinsic+json": {
              "type": "string"
            }
          },
          "metadata": {},
          "execution_count": 8
        }
      ]
    },
    {
      "cell_type": "code",
      "source": [
        "def stock_impo(name, pre_price, cur_price, date ):\n",
        "        print(\"-------------------------\")\n",
        "        print(\"종목 : %s\" % name)\n",
        "        print(\"전일가: %s\" % pre_price)\n",
        "        print(\"현재가: %s\" % cur_price)\n",
        "        print(\"날짜: %s\" % date)\n",
        "        print(\"-------------------------\")"
      ],
      "metadata": {
        "id": "CDAAebBRMn9c"
      },
      "execution_count": null,
      "outputs": []
    },
    {
      "cell_type": "code",
      "source": [
        "stock_impo(\"엔씨소프트\",350500, 349000, 352500, 344000)"
      ],
      "metadata": {
        "colab": {
          "base_uri": "https://localhost:8080/"
        },
        "id": "B6zsvJUENOdc",
        "outputId": "31d54141-f719-4825-8dfd-19633cf7c50d"
      },
      "execution_count": null,
      "outputs": [
        {
          "output_type": "stream",
          "name": "stdout",
          "text": [
            "-------------------------\n",
            "종목 : 엔씨소프트\n",
            "전일가: 350500\n",
            "현재가: 349000\n",
            "고가: 352500\n",
            "저가: 344000\n",
            "-------------------------\n"
          ]
        }
      ]
    },
    {
      "cell_type": "code",
      "source": [
        "name = \"엔씨소프트\"\n",
        "pre_price = 350500\n",
        "cur_price = 349000\n",
        "date = '2022-10-07'\n",
        "\n",
        "stock_impo(name, pre_price, cur_price, date)"
      ],
      "metadata": {
        "colab": {
          "base_uri": "https://localhost:8080/"
        },
        "id": "DeU8CfqUN4MM",
        "outputId": "bec129df-e31f-4fe8-9f52-fab351c698f2"
      },
      "execution_count": null,
      "outputs": [
        {
          "output_type": "stream",
          "name": "stdout",
          "text": [
            "-------------------------\n",
            "종목 : 엔씨소프트\n",
            "전일가: 350500\n",
            "현재가: 349000\n",
            "날짜: 2022-10-07\n",
            "-------------------------\n"
          ]
        }
      ]
    },
    {
      "cell_type": "code",
      "source": [
        "class Make_Car:\n",
        "        pass"
      ],
      "metadata": {
        "id": "WfW9JTSNWW_j"
      },
      "execution_count": null,
      "outputs": []
    },
    {
      "cell_type": "code",
      "source": [
        "car1 = Make_Car()\n",
        "car1"
      ],
      "metadata": {
        "colab": {
          "base_uri": "https://localhost:8080/"
        },
        "id": "xc4a-I8RWlwL",
        "outputId": "9e720cdb-569a-4f8a-fd0f-7b8eee4b4849"
      },
      "execution_count": null,
      "outputs": [
        {
          "output_type": "execute_result",
          "data": {
            "text/plain": [
              "<__main__.Make_Car at 0x7ff54566bbd0>"
            ]
          },
          "metadata": {},
          "execution_count": 24
        }
      ]
    },
    {
      "cell_type": "code",
      "source": [
        "type(car1)"
      ],
      "metadata": {
        "colab": {
          "base_uri": "https://localhost:8080/"
        },
        "id": "3CnX5t55XO_b",
        "outputId": "a70807c2-0f5c-4fa5-e0a8-bcc2eebd6450"
      },
      "execution_count": null,
      "outputs": [
        {
          "output_type": "execute_result",
          "data": {
            "text/plain": [
              "__main__.Make_Car"
            ]
          },
          "metadata": {},
          "execution_count": 25
        }
      ]
    },
    {
      "cell_type": "code",
      "source": [
        "class Stock_total_info:\n",
        "        def stock_info(self, name, pre_price, cur_price, date):\n",
        "                self.name = name\n",
        "                self.pre_price = pre_price\n",
        "                self.cur_price = cur_price\n",
        "                self.date = date\n",
        "        def print_info(self):\n",
        "                print(\"--------------------\")\n",
        "                print(\"종목명: \", self.name)\n",
        "                print(\"전일가: \", self.pre_price)\n",
        "                print(\"현재가: \", self.cur_price)\n",
        "                print(\"날짜: \", self.date)\n",
        "                print(\"--------------------\")"
      ],
      "metadata": {
        "id": "Bpre4s4AdREz"
      },
      "execution_count": null,
      "outputs": []
    },
    {
      "cell_type": "code",
      "source": [
        "관심종목1 = Stock_total_info()\n",
        "관심종목1.stock_info(\"엔씨소프트\",350500,349000,\"2022-10-07\")\n",
        "관심종목1.print_info()"
      ],
      "metadata": {
        "colab": {
          "base_uri": "https://localhost:8080/"
        },
        "id": "T6eu93oudS2a",
        "outputId": "491b7eb0-46c2-4193-8e9c-366b9029b0eb"
      },
      "execution_count": null,
      "outputs": [
        {
          "output_type": "stream",
          "name": "stdout",
          "text": [
            "--------------------\n",
            "종목명:  엔씨소프트\n",
            "전일가:  350500\n",
            "현재가:  349000\n",
            "날짜:  2022-10-07\n",
            "--------------------\n"
          ]
        }
      ]
    },
    {
      "cell_type": "code",
      "source": [
        "class Stock_total_info:\n",
        "        def __init__(self, name, pre_price, cur_price, date):\n",
        "                self.name = name\n",
        "                self.pre_price = pre_price\n",
        "                self.cur_price = cur_price\n",
        "                self.date = date\n",
        "        def print_info(self):\n",
        "                print(\"--------------------\")\n",
        "                print(\"종목명: \", self.name)\n",
        "                print(\"전일가: \", self.pre_price)\n",
        "                print(\"현재가: \", self.cur_price)\n",
        "                print(\"날짜: \", self.date)\n",
        "                print(\"--------------------\")"
      ],
      "metadata": {
        "id": "7pqHR-8dSK0q"
      },
      "execution_count": null,
      "outputs": []
    },
    {
      "cell_type": "code",
      "source": [
        "관심종목1 = Stock_total_info(\"엔씨소프트\",350500,349000,\"2022-10-07\")\n",
        "관심종목1.print_info()"
      ],
      "metadata": {
        "colab": {
          "base_uri": "https://localhost:8080/"
        },
        "id": "hElJtZ0WSRRS",
        "outputId": "6e9bffed-1111-447c-bf44-6628ac67ad38"
      },
      "execution_count": null,
      "outputs": [
        {
          "output_type": "stream",
          "name": "stdout",
          "text": [
            "--------------------\n",
            "종목명:  엔씨소프트\n",
            "전일가:  350500\n",
            "현재가:  349000\n",
            "날짜:  2022-10-07\n",
            "--------------------\n"
          ]
        }
      ]
    },
    {
      "cell_type": "code",
      "source": [
        "class Stock:\n",
        " def naver():\n",
        "  print(\"naver\")\n",
        " def daum(self):\n",
        "  print(id(self))\n",
        "  print(\"daum\")\n",
        "\n",
        "news = Stock()  \n",
        "webtoon = Stock()\n",
        "webtoon.daum()"
      ],
      "metadata": {
        "colab": {
          "base_uri": "https://localhost:8080/"
        },
        "id": "JAPThZB4YgZn",
        "outputId": "411965b6-b532-4c65-fd15-c92a369ad32c"
      },
      "execution_count": null,
      "outputs": [
        {
          "output_type": "stream",
          "name": "stdout",
          "text": [
            "140141391917200\n",
            "daum\n"
          ]
        }
      ]
    },
    {
      "cell_type": "code",
      "source": [
        "id(webtoon)"
      ],
      "metadata": {
        "colab": {
          "base_uri": "https://localhost:8080/"
        },
        "id": "t7p3zFusbwbl",
        "outputId": "031b831f-d850-4b10-8a96-2e6c38b5f4a7"
      },
      "execution_count": null,
      "outputs": [
        {
          "output_type": "execute_result",
          "data": {
            "text/plain": [
              "140141391726544"
            ]
          },
          "metadata": {},
          "execution_count": 17
        }
      ]
    },
    {
      "cell_type": "code",
      "source": [
        "webtoon.naver()"
      ],
      "metadata": {
        "colab": {
          "base_uri": "https://localhost:8080/",
          "height": 174
        },
        "id": "FZjEqKRUZuPe",
        "outputId": "9dc6886f-7d35-43ac-fe0a-9d7d71aa3f69"
      },
      "execution_count": null,
      "outputs": [
        {
          "output_type": "error",
          "ename": "TypeError",
          "evalue": "ignored",
          "traceback": [
            "\u001b[0;31m---------------------------------------------------------------------------\u001b[0m",
            "\u001b[0;31mTypeError\u001b[0m                                 Traceback (most recent call last)",
            "\u001b[0;32m<ipython-input-11-ebb6cb5a53eb>\u001b[0m in \u001b[0;36m<module>\u001b[0;34m\u001b[0m\n\u001b[0;32m----> 1\u001b[0;31m \u001b[0mwebtoon\u001b[0m\u001b[0;34m.\u001b[0m\u001b[0mnaver\u001b[0m\u001b[0;34m(\u001b[0m\u001b[0;34m)\u001b[0m\u001b[0;34m\u001b[0m\u001b[0;34m\u001b[0m\u001b[0m\n\u001b[0m",
            "\u001b[0;31mTypeError\u001b[0m: naver() takes 0 positional arguments but 1 was given"
          ]
        }
      ]
    },
    {
      "cell_type": "code",
      "source": [
        "Stock.naver()"
      ],
      "metadata": {
        "colab": {
          "base_uri": "https://localhost:8080/"
        },
        "id": "gGjbxB0ddpVt",
        "outputId": "33734d92-0aef-45f3-97cd-c242d2395a3f"
      },
      "execution_count": null,
      "outputs": [
        {
          "output_type": "stream",
          "name": "stdout",
          "text": [
            "naver\n"
          ]
        }
      ]
    },
    {
      "cell_type": "code",
      "source": [
        "Stock.daum()"
      ],
      "metadata": {
        "colab": {
          "base_uri": "https://localhost:8080/",
          "height": 174
        },
        "id": "WdJIePrPdwd8",
        "outputId": "36c1267e-8113-43a0-d371-efb1d17bece4"
      },
      "execution_count": null,
      "outputs": [
        {
          "output_type": "error",
          "ename": "TypeError",
          "evalue": "ignored",
          "traceback": [
            "\u001b[0;31m---------------------------------------------------------------------------\u001b[0m",
            "\u001b[0;31mTypeError\u001b[0m                                 Traceback (most recent call last)",
            "\u001b[0;32m<ipython-input-20-cede433fa59e>\u001b[0m in \u001b[0;36m<module>\u001b[0;34m\u001b[0m\n\u001b[0;32m----> 1\u001b[0;31m \u001b[0mStock\u001b[0m\u001b[0;34m.\u001b[0m\u001b[0mdaum\u001b[0m\u001b[0;34m(\u001b[0m\u001b[0;34m)\u001b[0m\u001b[0;34m\u001b[0m\u001b[0;34m\u001b[0m\u001b[0m\n\u001b[0m",
            "\u001b[0;31mTypeError\u001b[0m: daum() missing 1 required positional argument: 'self'"
          ]
        }
      ]
    },
    {
      "cell_type": "code",
      "source": [
        "Stock.daum(webtoon)"
      ],
      "metadata": {
        "colab": {
          "base_uri": "https://localhost:8080/"
        },
        "id": "o3FDqz0md1yM",
        "outputId": "6d970af1-ebb2-432f-8a1f-d00b4c9f2934"
      },
      "execution_count": null,
      "outputs": [
        {
          "output_type": "stream",
          "name": "stdout",
          "text": [
            "140141391726544\n",
            "daum\n"
          ]
        }
      ]
    },
    {
      "cell_type": "code",
      "source": [
        "Stock.daum(news)"
      ],
      "metadata": {
        "colab": {
          "base_uri": "https://localhost:8080/"
        },
        "id": "ifZsxGPRd5h8",
        "outputId": "86b7e8c6-1e7c-4682-d5c0-2a75a8d6d50f"
      },
      "execution_count": null,
      "outputs": [
        {
          "output_type": "stream",
          "name": "stdout",
          "text": [
            "140141391919184\n",
            "daum\n"
          ]
        }
      ]
    },
    {
      "cell_type": "code",
      "source": [
        "news.naver()"
      ],
      "metadata": {
        "id": "csqbh3QmeQYt",
        "outputId": "f53fcf51-8f6d-4610-8c12-bfb5812520e7",
        "colab": {
          "base_uri": "https://localhost:8080/",
          "height": 174
        }
      },
      "execution_count": null,
      "outputs": [
        {
          "output_type": "error",
          "ename": "TypeError",
          "evalue": "ignored",
          "traceback": [
            "\u001b[0;31m---------------------------------------------------------------------------\u001b[0m",
            "\u001b[0;31mTypeError\u001b[0m                                 Traceback (most recent call last)",
            "\u001b[0;32m<ipython-input-24-4c35c05861a2>\u001b[0m in \u001b[0;36m<module>\u001b[0;34m\u001b[0m\n\u001b[0;32m----> 1\u001b[0;31m \u001b[0mnews\u001b[0m\u001b[0;34m.\u001b[0m\u001b[0mnaver\u001b[0m\u001b[0;34m(\u001b[0m\u001b[0;34m)\u001b[0m\u001b[0;34m\u001b[0m\u001b[0;34m\u001b[0m\u001b[0m\n\u001b[0m",
            "\u001b[0;31mTypeError\u001b[0m: naver() takes 0 positional arguments but 1 was given"
          ]
        }
      ]
    },
    {
      "cell_type": "code",
      "source": [
        "class stock:\n",
        "  market = \"kospi\""
      ],
      "metadata": {
        "id": "BDTyQrSBCqhl"
      },
      "execution_count": null,
      "outputs": []
    },
    {
      "cell_type": "code",
      "source": [
        "dir()"
      ],
      "metadata": {
        "colab": {
          "base_uri": "https://localhost:8080/"
        },
        "id": "x-s9NFCpC57s",
        "outputId": "74786764-b1c4-4ee5-ae58-952174cfc3a7"
      },
      "execution_count": null,
      "outputs": [
        {
          "output_type": "execute_result",
          "data": {
            "text/plain": [
              "['In',\n",
              " 'Out',\n",
              " '_',\n",
              " '__',\n",
              " '___',\n",
              " '__builtin__',\n",
              " '__builtins__',\n",
              " '__doc__',\n",
              " '__loader__',\n",
              " '__name__',\n",
              " '__package__',\n",
              " '__spec__',\n",
              " '_dh',\n",
              " '_i',\n",
              " '_i1',\n",
              " '_i2',\n",
              " '_i3',\n",
              " '_ih',\n",
              " '_ii',\n",
              " '_iii',\n",
              " '_oh',\n",
              " 'exit',\n",
              " 'get_ipython',\n",
              " 'quit',\n",
              " 'stock']"
            ]
          },
          "metadata": {},
          "execution_count": 3
        }
      ]
    },
    {
      "cell_type": "code",
      "source": [
        "stock"
      ],
      "metadata": {
        "colab": {
          "base_uri": "https://localhost:8080/"
        },
        "id": "2CoxshUBDJq8",
        "outputId": "85979ab2-16c3-4bc6-9575-fac483ceb2fa"
      },
      "execution_count": null,
      "outputs": [
        {
          "output_type": "execute_result",
          "data": {
            "text/plain": [
              "__main__.stock"
            ]
          },
          "metadata": {},
          "execution_count": 6
        }
      ]
    },
    {
      "cell_type": "code",
      "source": [
        "stock.__dict__"
      ],
      "metadata": {
        "colab": {
          "base_uri": "https://localhost:8080/"
        },
        "id": "4o-A_N7jDY0s",
        "outputId": "0537faa0-f91d-4a3e-c08f-e2787b60d061"
      },
      "execution_count": null,
      "outputs": [
        {
          "output_type": "execute_result",
          "data": {
            "text/plain": [
              "mappingproxy({'__module__': '__main__',\n",
              "              'market': 'kospi',\n",
              "              '__dict__': <attribute '__dict__' of 'stock' objects>,\n",
              "              '__weakref__': <attribute '__weakref__' of 'stock' objects>,\n",
              "              '__doc__': None})"
            ]
          },
          "metadata": {},
          "execution_count": 7
        }
      ]
    },
    {
      "cell_type": "code",
      "source": [
        "stock.market"
      ],
      "metadata": {
        "colab": {
          "base_uri": "https://localhost:8080/",
          "height": 36
        },
        "id": "XpnNFdWUGOUz",
        "outputId": "1abd9cd7-474f-4eb2-fb29-9fd83c90ffbd"
      },
      "execution_count": null,
      "outputs": [
        {
          "output_type": "execute_result",
          "data": {
            "text/plain": [
              "'kospi'"
            ],
            "application/vnd.google.colaboratory.intrinsic+json": {
              "type": "string"
            }
          },
          "metadata": {},
          "execution_count": 10
        }
      ]
    },
    {
      "cell_type": "code",
      "source": [
        "s1 = stock()\n",
        "s2 = stock()\n",
        "s1.market = 'kosdaq'\n",
        "s1.market"
      ],
      "metadata": {
        "colab": {
          "base_uri": "https://localhost:8080/",
          "height": 36
        },
        "id": "Npo0iSl0Gxv0",
        "outputId": "51aa55ae-153a-4364-fc7c-f9ddb2ed7a24"
      },
      "execution_count": null,
      "outputs": [
        {
          "output_type": "execute_result",
          "data": {
            "text/plain": [
              "'kosdaq'"
            ],
            "application/vnd.google.colaboratory.intrinsic+json": {
              "type": "string"
            }
          },
          "metadata": {},
          "execution_count": 20
        }
      ]
    },
    {
      "cell_type": "code",
      "source": [
        "s2.market"
      ],
      "metadata": {
        "colab": {
          "base_uri": "https://localhost:8080/",
          "height": 36
        },
        "id": "awcoLgtqJJAr",
        "outputId": "570bab48-4516-45e2-def3-73786576788c"
      },
      "execution_count": null,
      "outputs": [
        {
          "output_type": "execute_result",
          "data": {
            "text/plain": [
              "'kospi'"
            ],
            "application/vnd.google.colaboratory.intrinsic+json": {
              "type": "string"
            }
          },
          "metadata": {},
          "execution_count": 21
        }
      ]
    },
    {
      "cell_type": "code",
      "source": [
        "class 주식잔고 :\n",
        "\n",
        " num_stocks =0\n",
        "\n",
        " def __init__(self, name) :\n",
        "\n",
        "  self.name = name\n",
        "\n",
        "  주식잔고.num_stocks += 1\n",
        "\n",
        " def __del__(self, name) :\n",
        "\n",
        "  self.name = name\n",
        "\n",
        "  주식잔고.num_stocks -= 1"
      ],
      "metadata": {
        "id": "WxWWpA77JslR"
      },
      "execution_count": null,
      "outputs": []
    },
    {
      "cell_type": "code",
      "source": [
        "엔씨소프트 = 주식잔고(\"엔씨소프트\")\n",
        "카카오페이 = 주식잔고(\"카카오페이\")"
      ],
      "metadata": {
        "id": "Z2KX96TcNwtg"
      },
      "execution_count": null,
      "outputs": []
    },
    {
      "cell_type": "code",
      "source": [
        "주식잔고.num_stocks"
      ],
      "metadata": {
        "colab": {
          "base_uri": "https://localhost:8080/"
        },
        "id": "6nL7AVosJsfR",
        "outputId": "8b721790-4eb1-430b-e269-ff8e1d21623f"
      },
      "execution_count": null,
      "outputs": [
        {
          "output_type": "execute_result",
          "data": {
            "text/plain": [
              "2"
            ]
          },
          "metadata": {},
          "execution_count": 35
        }
      ]
    },
    {
      "cell_type": "code",
      "source": [
        "엔씨소프트.num_stocks"
      ],
      "metadata": {
        "colab": {
          "base_uri": "https://localhost:8080/"
        },
        "id": "wUnP9G0oOKcY",
        "outputId": "838924e5-446c-4675-c22d-0ebafa56cb23"
      },
      "execution_count": null,
      "outputs": [
        {
          "output_type": "execute_result",
          "data": {
            "text/plain": [
              "2"
            ]
          },
          "metadata": {},
          "execution_count": 36
        }
      ]
    },
    {
      "cell_type": "code",
      "source": [
        "주식잔고.name"
      ],
      "metadata": {
        "id": "K8es0vTAPoRf",
        "outputId": "cf637a52-855a-41dd-86c1-ef0b599ca694",
        "colab": {
          "base_uri": "https://localhost:8080/",
          "height": 176
        }
      },
      "execution_count": null,
      "outputs": [
        {
          "output_type": "error",
          "ename": "AttributeError",
          "evalue": "ignored",
          "traceback": [
            "\u001b[0;31m---------------------------------------------------------------------------\u001b[0m",
            "\u001b[0;31mAttributeError\u001b[0m                            Traceback (most recent call last)",
            "\u001b[0;32m<ipython-input-37-f9209b7cd0e0>\u001b[0m in \u001b[0;36m<module>\u001b[0;34m\u001b[0m\n\u001b[0;32m----> 1\u001b[0;31m \u001b[0m주식잔고\u001b[0m\u001b[0;34m.\u001b[0m\u001b[0mname\u001b[0m\u001b[0;34m\u001b[0m\u001b[0;34m\u001b[0m\u001b[0m\n\u001b[0m",
            "\u001b[0;31mAttributeError\u001b[0m: type object '주식잔고' has no attribute 'name'"
          ]
        }
      ]
    },
    {
      "cell_type": "code",
      "source": [
        "class parent:\n",
        "  def smart(self) :\n",
        "    print(\"smart\")\n",
        "\n",
        "father = parent()\n",
        "father.smart()"
      ],
      "metadata": {
        "id": "VXIUdmLBO6Vn",
        "colab": {
          "base_uri": "https://localhost:8080/"
        },
        "outputId": "fe453891-856c-49c5-e3d4-d996d8b0c920"
      },
      "execution_count": null,
      "outputs": [
        {
          "output_type": "stream",
          "name": "stdout",
          "text": [
            "smart\n"
          ]
        }
      ]
    },
    {
      "cell_type": "code",
      "source": [
        "class inherited_children(parent):\n",
        "  pass"
      ],
      "metadata": {
        "id": "uBEWlngwvvTO"
      },
      "execution_count": null,
      "outputs": []
    },
    {
      "cell_type": "code",
      "source": [
        "class inherited_children1(father):\n",
        "  pass"
      ],
      "metadata": {
        "colab": {
          "base_uri": "https://localhost:8080/",
          "height": 190
        },
        "id": "x6Vv49zGzAx6",
        "outputId": "d9633bde-2ffb-457b-df31-0a97fd62dcc6"
      },
      "execution_count": null,
      "outputs": [
        {
          "output_type": "error",
          "ename": "TypeError",
          "evalue": "ignored",
          "traceback": [
            "\u001b[0;31m---------------------------------------------------------------------------\u001b[0m",
            "\u001b[0;31mTypeError\u001b[0m                                 Traceback (most recent call last)",
            "\u001b[0;32m<ipython-input-68-4c8775563c89>\u001b[0m in \u001b[0;36m<module>\u001b[0;34m\u001b[0m\n\u001b[0;32m----> 1\u001b[0;31m \u001b[0;32mclass\u001b[0m \u001b[0minherited_children1\u001b[0m\u001b[0;34m(\u001b[0m\u001b[0mfather\u001b[0m\u001b[0;34m)\u001b[0m\u001b[0;34m:\u001b[0m\u001b[0;34m\u001b[0m\u001b[0;34m\u001b[0m\u001b[0m\n\u001b[0m\u001b[1;32m      2\u001b[0m   \u001b[0;32mpass\u001b[0m\u001b[0;34m\u001b[0m\u001b[0;34m\u001b[0m\u001b[0m\n",
            "\u001b[0;31mTypeError\u001b[0m: parent() takes no arguments"
          ]
        }
      ]
    },
    {
      "cell_type": "code",
      "source": [
        "child1= inherited_children()\n",
        "child1.smart()"
      ],
      "metadata": {
        "colab": {
          "base_uri": "https://localhost:8080/"
        },
        "id": "Pk_Yy78VvvI4",
        "outputId": "6d410ec1-bc1e-43ba-ea7d-c94806a5f2e2"
      },
      "execution_count": null,
      "outputs": [
        {
          "output_type": "stream",
          "name": "stdout",
          "text": [
            "smart\n"
          ]
        }
      ]
    },
    {
      "cell_type": "code",
      "source": [
        "class uninherited_children:\n",
        "  pass"
      ],
      "metadata": {
        "id": "L5pZxthFvpaF"
      },
      "execution_count": null,
      "outputs": []
    },
    {
      "cell_type": "code",
      "source": [
        "child2= uninherited_children()\n",
        "child2.smart()"
      ],
      "metadata": {
        "colab": {
          "base_uri": "https://localhost:8080/",
          "height": 190
        },
        "id": "5k6_uCeQxsv6",
        "outputId": "68a86723-ab64-4a16-a4a2-a560c22f6582"
      },
      "execution_count": null,
      "outputs": [
        {
          "output_type": "error",
          "ename": "AttributeError",
          "evalue": "ignored",
          "traceback": [
            "\u001b[0;31m---------------------------------------------------------------------------\u001b[0m",
            "\u001b[0;31mAttributeError\u001b[0m                            Traceback (most recent call last)",
            "\u001b[0;32m<ipython-input-67-0394730e3524>\u001b[0m in \u001b[0;36m<module>\u001b[0;34m\u001b[0m\n\u001b[1;32m      1\u001b[0m \u001b[0mchild2\u001b[0m\u001b[0;34m=\u001b[0m \u001b[0muninherited_children\u001b[0m\u001b[0;34m(\u001b[0m\u001b[0;34m)\u001b[0m\u001b[0;34m\u001b[0m\u001b[0;34m\u001b[0m\u001b[0m\n\u001b[0;32m----> 2\u001b[0;31m \u001b[0mchild2\u001b[0m\u001b[0;34m.\u001b[0m\u001b[0msmart\u001b[0m\u001b[0;34m(\u001b[0m\u001b[0;34m)\u001b[0m\u001b[0;34m\u001b[0m\u001b[0;34m\u001b[0m\u001b[0m\n\u001b[0m",
            "\u001b[0;31mAttributeError\u001b[0m: 'uninherited_children' object has no attribute 'smart'"
          ]
        }
      ]
    },
    {
      "cell_type": "code",
      "source": [
        "class perfect_child (parent):\n",
        " def sing(self):\n",
        "  print(\"very well sing\")\n",
        " def soccer(self):\n",
        "  print(\"very well play the soccer\")\n",
        " def running(self):\n",
        "  print(\"very well run\")"
      ],
      "metadata": {
        "id": "EhIEvfcKzlcC"
      },
      "execution_count": null,
      "outputs": []
    },
    {
      "cell_type": "code",
      "source": [
        "child3 = perfect_child()\n",
        "child3."
      ],
      "metadata": {
        "id": "HyAiQeHq12xQ"
      },
      "execution_count": null,
      "outputs": []
    },
    {
      "cell_type": "code",
      "source": [
        "f = open('C:\\\\stock\\\\LG생활건강우.txt', 'rt')"
      ],
      "metadata": {
        "colab": {
          "base_uri": "https://localhost:8080/",
          "height": 172
        },
        "id": "NdhAUazLA_Lc",
        "outputId": "e862248f-56c9-412d-ffb5-6e1f767d286a"
      },
      "execution_count": null,
      "outputs": [
        {
          "output_type": "error",
          "ename": "FileNotFoundError",
          "evalue": "ignored",
          "traceback": [
            "\u001b[0;31m---------------------------------------------------------------------------\u001b[0m",
            "\u001b[0;31mFileNotFoundError\u001b[0m                         Traceback (most recent call last)",
            "\u001b[0;32m<ipython-input-83-52932adf75a0>\u001b[0m in \u001b[0;36m<module>\u001b[0;34m\u001b[0m\n\u001b[0;32m----> 1\u001b[0;31m \u001b[0mf\u001b[0m \u001b[0;34m=\u001b[0m \u001b[0mopen\u001b[0m\u001b[0;34m(\u001b[0m\u001b[0;34m'C:\\\\stock\\\\LG생활건강우.txt'\u001b[0m\u001b[0;34m,\u001b[0m \u001b[0;34m'rt'\u001b[0m\u001b[0;34m)\u001b[0m\u001b[0;34m\u001b[0m\u001b[0;34m\u001b[0m\u001b[0m\n\u001b[0m",
            "\u001b[0;31mFileNotFoundError\u001b[0m: [Errno 2] No such file or directory: 'C:\\\\stock\\\\LG생활건강우.txt'"
          ]
        }
      ]
    },
    {
      "cell_type": "code",
      "source": [
        "class itr_stock :\n",
        "    def __init__(self, name, cur_price, my_price):\n",
        "        self.name =name\n",
        "        self.cur_price = cur_price\n",
        "        self.my_price = my_price\n",
        "        self.rate = (1-(my_price/cur_price))*100\n",
        "        \n",
        "    def print_info(self):\n",
        "        print(\"종목명: \", self.name)\n",
        "        print(\"현재가: \", self.cur_price)\n",
        "        print(\"평단가: \", self.my_price)\n",
        "        print(\"수익률: \", self.rate)\n",
        "\n",
        "def run():\n",
        "    kakaopay = itr_stock('카카오페이', 36350 , 44019)\n",
        "    kakaopay.print_info()\n",
        "\n",
        "run()\n"
      ],
      "metadata": {
        "colab": {
          "base_uri": "https://localhost:8080/"
        },
        "id": "iByPlPMLJbBn",
        "outputId": "8ddc6301-3ccf-43c8-af32-5020f6e30de1"
      },
      "execution_count": 3,
      "outputs": [
        {
          "output_type": "stream",
          "name": "stdout",
          "text": [
            "종목명:  카카오페이\n",
            "현재가:  36350\n",
            "평단가:  44019\n",
            "수익률:  -21.097661623108664\n"
          ]
        }
      ]
    }
  ]
}