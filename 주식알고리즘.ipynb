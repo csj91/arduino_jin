{
  "nbformat": 4,
  "nbformat_minor": 0,
  "metadata": {
    "colab": {
      "provenance": [],
      "collapsed_sections": [],
      "authorship_tag": "ABX9TyPUgjWO7rQY3+D1nrkqZf3Z",
      "include_colab_link": true
    },
    "kernelspec": {
      "name": "python3",
      "display_name": "Python 3"
    },
    "language_info": {
      "name": "python"
    }
  },
  "cells": [
    {
      "cell_type": "markdown",
      "metadata": {
        "id": "view-in-github",
        "colab_type": "text"
      },
      "source": [
        "<a href=\"https://colab.research.google.com/github/csj91/arduino_jin/blob/main/%EC%A3%BC%EC%8B%9D%EC%95%8C%EA%B3%A0%EB%A6%AC%EC%A6%98.ipynb\" target=\"_parent\"><img src=\"https://colab.research.google.com/assets/colab-badge.svg\" alt=\"Open In Colab\"/></a>"
      ]
    },
    {
      "cell_type": "code",
      "execution_count": null,
      "metadata": {
        "colab": {
          "base_uri": "https://localhost:8080/"
        },
        "id": "qvsz2uyxWQai",
        "outputId": "ef6ad9be-b5cf-4b4c-e421-02f6b78fbf67"
      },
      "outputs": [
        {
          "output_type": "execute_result",
          "data": {
            "text/plain": [
              "{'삼성전자': 56200, 'LG에너지솔루션': 482500, 'SK하이닉스': 91200}"
            ]
          },
          "metadata": {},
          "execution_count": 6
        }
      ],
      "source": [
        "현재가 = {}\n",
        "현재가['삼성전자'] = 56200\n",
        "현재가['LG에너지솔루션'] = 482500\n",
        "현재가['SK하이닉스'] = 91200\n",
        "현재가"
      ]
    },
    {
      "cell_type": "code",
      "source": [
        "list(현재가.keys())"
      ],
      "metadata": {
        "id": "T6DQjIBBWZ0d",
        "colab": {
          "base_uri": "https://localhost:8080/"
        },
        "outputId": "62de2cc0-2186-492f-d454-b643f8de3e4b"
      },
      "execution_count": null,
      "outputs": [
        {
          "output_type": "execute_result",
          "data": {
            "text/plain": [
              "['삼성전자', 'LG에너지솔루션', 'SK하이닉스']"
            ]
          },
          "metadata": {},
          "execution_count": 7
        }
      ]
    },
    {
      "cell_type": "code",
      "source": [
        "list(현재가.values())"
      ],
      "metadata": {
        "colab": {
          "base_uri": "https://localhost:8080/"
        },
        "id": "wdhQyi2NhnJu",
        "outputId": "485edf58-be4e-4754-bbdc-4cf0b1f34194"
      },
      "execution_count": null,
      "outputs": [
        {
          "output_type": "execute_result",
          "data": {
            "text/plain": [
              "[56200, 482500, 91200]"
            ]
          },
          "metadata": {},
          "execution_count": 8
        }
      ]
    },
    {
      "cell_type": "code",
      "source": [
        "'SK하이닉스' in 현재가.keys()"
      ],
      "metadata": {
        "colab": {
          "base_uri": "https://localhost:8080/"
        },
        "id": "R0gazla5jJM1",
        "outputId": "50e69b19-d10e-4e46-a319-8b29d2c1fd22"
      },
      "execution_count": null,
      "outputs": [
        {
          "output_type": "execute_result",
          "data": {
            "text/plain": [
              "True"
            ]
          },
          "metadata": {},
          "execution_count": 10
        }
      ]
    },
    {
      "cell_type": "code",
      "source": [
        "네이버종가 = [ 193500, 176500, 164000, 167000, 160000]\n",
        "네이버종가"
      ],
      "metadata": {
        "colab": {
          "base_uri": "https://localhost:8080/"
        },
        "id": "zgMb5B7WrwQv",
        "outputId": "9e9104bb-21ae-4a40-bf64-5a212085321e"
      },
      "execution_count": null,
      "outputs": [
        {
          "output_type": "execute_result",
          "data": {
            "text/plain": [
              "[193500, 176500, 164000, 167000, 160000]"
            ]
          },
          "metadata": {},
          "execution_count": 17
        }
      ]
    },
    {
      "cell_type": "code",
      "source": [
        "최저네이버종가 = min(네이버종가)\n",
        "print(최저네이버종가)\n",
        "최고네이버종가 = max(네이버종가)\n",
        "print(최고네이버종가)"
      ],
      "metadata": {
        "colab": {
          "base_uri": "https://localhost:8080/"
        },
        "id": "E0RuT1bLrvao",
        "outputId": "0f9b2077-aa8c-4c20-a246-5e8e90bd485d"
      },
      "execution_count": null,
      "outputs": [
        {
          "output_type": "stream",
          "name": "stdout",
          "text": [
            "160000\n",
            "193500\n"
          ]
        }
      ]
    },
    {
      "cell_type": "code",
      "source": [
        "가격차 = 최고네이버종가 - 최저네이버종가\n",
        "print(가격차)"
      ],
      "metadata": {
        "colab": {
          "base_uri": "https://localhost:8080/"
        },
        "id": "zWxgQzDlsJly",
        "outputId": "6c8a567d-c6e4-4f09-9c95-3f2f4e2aba1a"
      },
      "execution_count": null,
      "outputs": [
        {
          "output_type": "stream",
          "name": "stdout",
          "text": [
            "33500\n"
          ]
        }
      ]
    },
    {
      "cell_type": "code",
      "source": [
        "네이버종가dic = {'2022/09/30': 193500, '2022/10/07': 160000, '2022/10/06':167000,'2022/10/05': 164000,'2022/10/04': 176500 } "
      ],
      "metadata": {
        "id": "32sBdmhSDvCO"
      },
      "execution_count": null,
      "outputs": []
    },
    {
      "cell_type": "code",
      "source": [
        "print(네이버종가dic['2022/10/07'])"
      ],
      "metadata": {
        "colab": {
          "base_uri": "https://localhost:8080/"
        },
        "id": "b356FRbGELfz",
        "outputId": "7ae8fc39-b2c3-4882-d862-c2734a5a1788"
      },
      "execution_count": null,
      "outputs": [
        {
          "output_type": "stream",
          "name": "stdout",
          "text": [
            "160000\n"
          ]
        }
      ]
    },
    {
      "cell_type": "code",
      "source": [
        "네이버종가날짜 =list(네이버종가dic.keys())\n",
        "네이버종가가격 =list(네이버종가dic.values())"
      ],
      "metadata": {
        "id": "wLuZacfiHG-h"
      },
      "execution_count": null,
      "outputs": []
    },
    {
      "cell_type": "code",
      "source": [
        "price = int(input(\"가격을 입력하세요:\"))\n",
        "if price < 1000:\n",
        "        bid = 1\n",
        "elif price >= 1000 and price < 5000:\n",
        "        bid = 5\n",
        "elif price >= 5000 and price < 10000:\n",
        "        bid = 10\n",
        "elif price >= 10000 and price < 50000:\n",
        "        bid = 50\n",
        "elif price >= 50000 and price < 100000:\n",
        "        bid = 100\n",
        "elif price >= 100000 and price < 500000:\n",
        "        bid = 500\n",
        "elif price >= 500000:\n",
        "        bid = 1000\n",
        "\n",
        "bid"
      ],
      "metadata": {
        "colab": {
          "base_uri": "https://localhost:8080/"
        },
        "id": "mm9M9T3hUUh4",
        "outputId": "cbde5d9c-0e7e-4092-9546-4f97eb39fc4a"
      },
      "execution_count": null,
      "outputs": [
        {
          "name": "stdout",
          "output_type": "stream",
          "text": [
            "가격을 입력하세요:5000\n"
          ]
        },
        {
          "output_type": "execute_result",
          "data": {
            "text/plain": [
              "10"
            ]
          },
          "metadata": {},
          "execution_count": 65
        }
      ]
    },
    {
      "cell_type": "code",
      "source": [
        "for i in [0,1,2,3,4] :\n",
        "  print(i)"
      ],
      "metadata": {
        "colab": {
          "base_uri": "https://localhost:8080/"
        },
        "id": "DxBzP3QeWYxv",
        "outputId": "576e63c3-21a7-4585-924f-6eb9cb14604e"
      },
      "execution_count": null,
      "outputs": [
        {
          "output_type": "stream",
          "name": "stdout",
          "text": [
            "0\n",
            "1\n",
            "2\n",
            "3\n",
            "4\n"
          ]
        }
      ]
    },
    {
      "cell_type": "code",
      "source": [
        "for i in [ 1, 10 ,100, 1000] :\n",
        "\n",
        " print(i)"
      ],
      "metadata": {
        "colab": {
          "base_uri": "https://localhost:8080/"
        },
        "id": "EyB6zjehWs1n",
        "outputId": "9b3eb5a5-4a14-464b-df9d-100b8bb9f2bc"
      },
      "execution_count": null,
      "outputs": [
        {
          "output_type": "stream",
          "name": "stdout",
          "text": [
            "1\n",
            "10\n",
            "100\n",
            "1000\n"
          ]
        }
      ]
    },
    {
      "cell_type": "code",
      "source": [
        "list(range(1,10))"
      ],
      "metadata": {
        "colab": {
          "base_uri": "https://localhost:8080/"
        },
        "id": "G6gi6WvmX00F",
        "outputId": "4b9d6bd5-628a-441f-c8f5-082d0391aaf5"
      },
      "execution_count": null,
      "outputs": [
        {
          "output_type": "execute_result",
          "data": {
            "text/plain": [
              "[1, 2, 3, 4, 5, 6, 7, 8, 9]"
            ]
          },
          "metadata": {},
          "execution_count": 74
        }
      ]
    },
    {
      "cell_type": "code",
      "source": [
        "관심종목 = [ \"엔씨소프트\" , \"삼성전자\" , \"NAVER\" , \"카카오페이\" , \"CS\" , \"아모레퍼시픽\"]\n",
        "for 종목 in 관심종목 :\n",
        " print(\"%s : 매수 10\" % 종목)\n"
      ],
      "metadata": {
        "colab": {
          "base_uri": "https://localhost:8080/"
        },
        "id": "0G8lvKzVdhkQ",
        "outputId": "d567d278-74f0-46c8-82f2-e158b4447d21"
      },
      "execution_count": null,
      "outputs": [
        {
          "output_type": "stream",
          "name": "stdout",
          "text": [
            "엔씨소프트 : 매수 10\n",
            "삼성전자 : 매수 10\n",
            "NAVER : 매수 10\n",
            "카카오페이 : 매수 10\n",
            "CS : 매수 10\n",
            "아모레퍼시픽 : 매수 10\n"
          ]
        }
      ]
    },
    {
      "cell_type": "code",
      "source": [
        "관심종목 = { \"엔씨소프트\" : 5 , \"삼성전자\" : 10 , \"NAVER\" : 5 , \"카카오페이\" : 10 , \"CS\" : 20  , \"아모레퍼시픽\" : 20}"
      ],
      "metadata": {
        "id": "MDhf9XkxiJdC"
      },
      "execution_count": null,
      "outputs": []
    },
    {
      "cell_type": "code",
      "source": [
        "for 종목, 매수량 in 관심종목.items() : \n",
        " print(\" %s : 매수 %s \" % (종목,매수량))\n"
      ],
      "metadata": {
        "colab": {
          "base_uri": "https://localhost:8080/"
        },
        "id": "2THR2-Dvi6BZ",
        "outputId": "2fdfaca1-df98-4f9f-b49b-d7361ea09d74"
      },
      "execution_count": null,
      "outputs": [
        {
          "output_type": "stream",
          "name": "stdout",
          "text": [
            " 엔씨소프트 : 매수 5 \n",
            " 삼성전자 : 매수 10 \n",
            " NAVER : 매수 5 \n",
            " 카카오페이 : 매수 10 \n",
            " CS : 매수 20 \n",
            " 아모레퍼시픽 : 매수 20 \n"
          ]
        }
      ]
    },
    {
      "cell_type": "code",
      "source": [
        "for i in range(0,11):\n",
        " print(i)"
      ],
      "metadata": {
        "colab": {
          "base_uri": "https://localhost:8080/"
        },
        "id": "Vp2YUUAg1peh",
        "outputId": "0479da79-2d2e-48b4-802a-3af860bea382"
      },
      "execution_count": 1,
      "outputs": [
        {
          "output_type": "stream",
          "name": "stdout",
          "text": [
            "0\n",
            "1\n",
            "2\n",
            "3\n",
            "4\n",
            "5\n",
            "6\n",
            "7\n",
            "8\n",
            "9\n",
            "10\n"
          ]
        }
      ]
    },
    {
      "cell_type": "code",
      "source": [
        "i= 0\n",
        "while i <= 10 :\n",
        " print(i)\n",
        " i = i+1"
      ],
      "metadata": {
        "colab": {
          "base_uri": "https://localhost:8080/"
        },
        "id": "D43X9vFk6xsg",
        "outputId": "95f01216-bdba-4310-a37a-a654c9c24f6e"
      },
      "execution_count": 2,
      "outputs": [
        {
          "output_type": "stream",
          "name": "stdout",
          "text": [
            "0\n",
            "1\n",
            "2\n",
            "3\n",
            "4\n",
            "5\n",
            "6\n",
            "7\n",
            "8\n",
            "9\n",
            "10\n"
          ]
        }
      ]
    },
    {
      "cell_type": "code",
      "source": [
        "신풍제약종가 = 20050\n",
        "day = 1\n",
        "while day<6 :\n",
        " 신풍제약종가 = 신풍제약종가+신풍제약종가*0.3\n",
        " day = day + 1\n",
        " \n",
        "신풍제약종가"
      ],
      "metadata": {
        "colab": {
          "base_uri": "https://localhost:8080/"
        },
        "id": "hoVmSoEJ9KVw",
        "outputId": "9397d6bb-60cb-486e-9647-6ea66c7319c0"
      },
      "execution_count": 4,
      "outputs": [
        {
          "output_type": "execute_result",
          "data": {
            "text/plain": [
              "74444.24650000001"
            ]
          },
          "metadata": {},
          "execution_count": 4
        }
      ]
    },
    {
      "cell_type": "code",
      "source": [
        "num = 0\n",
        "while num <= 10 :\n",
        " if num % 2 == 1 :\n",
        "  print(num)\n",
        " num += 1"
      ],
      "metadata": {
        "colab": {
          "base_uri": "https://localhost:8080/"
        },
        "id": "IiySiM29A7Sf",
        "outputId": "b7dd99ff-6198-40e1-ea8d-e39ecc6cfc54"
      },
      "execution_count": 5,
      "outputs": [
        {
          "output_type": "stream",
          "name": "stdout",
          "text": [
            "1\n",
            "3\n",
            "5\n",
            "7\n",
            "9\n"
          ]
        }
      ]
    },
    {
      "cell_type": "code",
      "source": [
        "num = 0\n",
        "while num < 10 :\n",
        " print (num)\n",
        " if num == 5 :\n",
        "  break\n",
        " num += 1"
      ],
      "metadata": {
        "colab": {
          "base_uri": "https://localhost:8080/"
        },
        "id": "09EsxTU9Cn_f",
        "outputId": "fc3ae7a1-7621-447b-ea26-2d2a211df508"
      },
      "execution_count": 7,
      "outputs": [
        {
          "output_type": "stream",
          "name": "stdout",
          "text": [
            "0\n",
            "1\n",
            "2\n",
            "3\n",
            "4\n",
            "5\n"
          ]
        }
      ]
    },
    {
      "cell_type": "code",
      "source": [
        "num = 0\n",
        "while num < 10 :\n",
        " num += 1\n",
        " if num == 5 : continue\n",
        " print(num)\n",
        " "
      ],
      "metadata": {
        "colab": {
          "base_uri": "https://localhost:8080/"
        },
        "id": "0s7T3mTEC0FA",
        "outputId": "da0a6c97-cf1b-41d8-95b9-05549da21d7e"
      },
      "execution_count": 14,
      "outputs": [
        {
          "output_type": "stream",
          "name": "stdout",
          "text": [
            "1\n",
            "2\n",
            "3\n",
            "4\n",
            "6\n",
            "7\n",
            "8\n",
            "9\n",
            "10\n"
          ]
        }
      ]
    },
    {
      "cell_type": "code",
      "source": [
        "for i in range(0,5) :\n",
        " print('*', end='')"
      ],
      "metadata": {
        "colab": {
          "base_uri": "https://localhost:8080/"
        },
        "id": "lJdLpByHF_VH",
        "outputId": "441b8592-9508-48d5-9f2a-63aa1e82413e"
      },
      "execution_count": 22,
      "outputs": [
        {
          "output_type": "stream",
          "name": "stdout",
          "text": [
            "*****"
          ]
        }
      ]
    },
    {
      "cell_type": "code",
      "source": [
        "for j in range(0,4) :\n",
        " for i in range(0,5) :\n",
        "  print('*', end='')\n",
        " print(\"\")"
      ],
      "metadata": {
        "colab": {
          "base_uri": "https://localhost:8080/"
        },
        "id": "OrMRwJGgGeHX",
        "outputId": "2fec3725-8ccc-472e-ac65-d1d67001dff8"
      },
      "execution_count": 27,
      "outputs": [
        {
          "output_type": "stream",
          "name": "stdout",
          "text": [
            "*****\n",
            "*****\n",
            "*****\n",
            "*****\n"
          ]
        }
      ]
    },
    {
      "cell_type": "code",
      "source": [
        "for j in range(5) :\n",
        " for i in range(j+1) :\n",
        "  print('*', end='')\n",
        " print(\"\")"
      ],
      "metadata": {
        "colab": {
          "base_uri": "https://localhost:8080/"
        },
        "id": "LifK3rC5HkGv",
        "outputId": "8903e623-3a0c-4c6d-b3a0-3f75bfecc2d3"
      },
      "execution_count": 30,
      "outputs": [
        {
          "output_type": "stream",
          "name": "stdout",
          "text": [
            "*\n",
            "**\n",
            "***\n",
            "****\n",
            "*****\n"
          ]
        }
      ]
    },
    {
      "cell_type": "code",
      "source": [
        "for j in range(5) :\n",
        " for i in range(5-j) :\n",
        "  print('*', end='')\n",
        " print(\"\")"
      ],
      "metadata": {
        "colab": {
          "base_uri": "https://localhost:8080/"
        },
        "id": "Xufaq0jgIP4X",
        "outputId": "fb490719-1f2d-438f-9f86-9b57adb63fca"
      },
      "execution_count": 36,
      "outputs": [
        {
          "output_type": "stream",
          "name": "stdout",
          "text": [
            "*****\n",
            "****\n",
            "***\n",
            "**\n",
            "*\n"
          ]
        }
      ]
    },
    {
      "cell_type": "code",
      "source": [
        "for j in range(5) :\n",
        " for i in range(5-j) :\n",
        "  print('*', end='')\n",
        " print(\"\")"
      ],
      "metadata": {
        "id": "5VIOwDCnJtLP"
      },
      "execution_count": null,
      "outputs": []
    },
    {
      "cell_type": "code",
      "source": [
        "for j in range(5):\n",
        "        for i in range(4-j):\n",
        "                print(' ', end='')\n",
        "        for i in range(j+1):\n",
        "                print('*', end='')\n",
        "        print(\"\")"
      ],
      "metadata": {
        "colab": {
          "base_uri": "https://localhost:8080/"
        },
        "id": "egElel6DKXJG",
        "outputId": "54ee2092-9e2f-417c-967b-600224656154"
      },
      "execution_count": 37,
      "outputs": [
        {
          "output_type": "stream",
          "name": "stdout",
          "text": [
            "    *\n",
            "   **\n",
            "  ***\n",
            " ****\n",
            "*****\n"
          ]
        }
      ]
    },
    {
      "cell_type": "code",
      "source": [
        "for j in range(5):\n",
        "        for i in range(j):\n",
        "                print(' ', end='')\n",
        "        for i in range(5-j):\n",
        "                print('*', end='')\n",
        "        print(\"\")"
      ],
      "metadata": {
        "colab": {
          "base_uri": "https://localhost:8080/"
        },
        "id": "PY9prGwRKjx2",
        "outputId": "cd14522f-5985-4f52-c8fa-8d9489ae3fd1"
      },
      "execution_count": 38,
      "outputs": [
        {
          "output_type": "stream",
          "name": "stdout",
          "text": [
            "*****\n",
            " ****\n",
            "  ***\n",
            "   **\n",
            "    *\n"
          ]
        }
      ]
    },
    {
      "cell_type": "code",
      "source": [
        "for j in range(5):\n",
        "        for i in range(4-j):\n",
        "                print(' ', end='')\n",
        "        for i in range(2*(j+1)-1):\n",
        "                print('*', end='')\n",
        "        print(\"\")"
      ],
      "metadata": {
        "colab": {
          "base_uri": "https://localhost:8080/"
        },
        "id": "ZVAxOyUGLdcX",
        "outputId": "140faa7e-1f68-4053-c078-27635ab8cd4c"
      },
      "execution_count": 39,
      "outputs": [
        {
          "output_type": "stream",
          "name": "stdout",
          "text": [
            "    *\n",
            "   ***\n",
            "  *****\n",
            " *******\n",
            "*********\n"
          ]
        }
      ]
    },
    {
      "cell_type": "code",
      "source": [
        "for j in range(5):\n",
        "        for i in range(j):\n",
        "                print(' ', end='')\n",
        "        for i in range(2*(5-j)-1):\n",
        "                print('*', end='')\n",
        "        print(\"\")"
      ],
      "metadata": {
        "colab": {
          "base_uri": "https://localhost:8080/"
        },
        "id": "Ci5HBH9RLkgH",
        "outputId": "ae6efd64-9805-41fa-ffef-76ae87403892"
      },
      "execution_count": 40,
      "outputs": [
        {
          "output_type": "stream",
          "name": "stdout",
          "text": [
            "*********\n",
            " *******\n",
            "  *****\n",
            "   ***\n",
            "    *\n"
          ]
        }
      ]
    },
    {
      "cell_type": "code",
      "source": [
        "apart = [[101, 102, 103, 104],[201, 202, 203, 204],[301, 302, 302, 303], [401, 402, 403, 404]]\n",
        "arrears = [101, 203, 301, 404]\n",
        "for i in apart:\n",
        "        for j in i:\n",
        "                if j in arrears:\n",
        "                        continue\n",
        "                else:\n",
        "                        print(\"Newspaper delivery: \", j)"
      ],
      "metadata": {
        "colab": {
          "base_uri": "https://localhost:8080/"
        },
        "id": "wE_OhV0RMFuG",
        "outputId": "228b0ec3-f70f-4261-a865-77514b308147"
      },
      "execution_count": 15,
      "outputs": [
        {
          "output_type": "stream",
          "name": "stdout",
          "text": [
            "Newspaper delivery:  102\n",
            "Newspaper delivery:  103\n",
            "Newspaper delivery:  104\n",
            "Newspaper delivery:  201\n",
            "Newspaper delivery:  202\n",
            "Newspaper delivery:  204\n",
            "Newspaper delivery:  302\n",
            "Newspaper delivery:  302\n",
            "Newspaper delivery:  303\n",
            "Newspaper delivery:  401\n",
            "Newspaper delivery:  402\n",
            "Newspaper delivery:  403\n"
          ]
        }
      ]
    },
    {
      "cell_type": "code",
      "source": [
        "apart[0]"
      ],
      "metadata": {
        "colab": {
          "base_uri": "https://localhost:8080/"
        },
        "id": "0peJffgisDES",
        "outputId": "aec65730-c990-42df-f643-d685ade0fae7"
      },
      "execution_count": 10,
      "outputs": [
        {
          "output_type": "execute_result",
          "data": {
            "text/plain": [
              "[101, 102, 103, 104]"
            ]
          },
          "metadata": {},
          "execution_count": 10
        }
      ]
    },
    {
      "cell_type": "code",
      "source": [
        "for i in apart :\n",
        "  for j in i :\n",
        "    if j in arrears : \n",
        "       continue\n",
        "    print(j)"
      ],
      "metadata": {
        "colab": {
          "base_uri": "https://localhost:8080/"
        },
        "id": "jjuYNRWhsrQS",
        "outputId": "2a2fdbfa-65d9-459f-8852-47ce22ae8569"
      },
      "execution_count": 32,
      "outputs": [
        {
          "output_type": "stream",
          "name": "stdout",
          "text": [
            "102\n",
            "103\n",
            "104\n",
            "201\n",
            "202\n",
            "204\n",
            "302\n",
            "302\n",
            "303\n",
            "401\n",
            "402\n",
            "403\n"
          ]
        }
      ]
    },
    {
      "cell_type": "code",
      "source": [
        "관심종목 = ['삼성전자', '카카오' , 'NAVER']\n",
        "for i in 관심종목 :\n",
        " print(i)"
      ],
      "metadata": {
        "colab": {
          "base_uri": "https://localhost:8080/"
        },
        "id": "KTVbZLAmxrnR",
        "outputId": "60b550df-49b5-42c3-f4f8-d6e11df25d05"
      },
      "execution_count": 37,
      "outputs": [
        {
          "output_type": "stream",
          "name": "stdout",
          "text": [
            "삼성전자\n",
            "카카오\n",
            "NAVER\n"
          ]
        }
      ]
    },
    {
      "cell_type": "code",
      "source": [
        "관심종목 = [['삼성전자', '삼성SDI' , '삼성중공업' ] , ['카카오' , '카카오페이', '카카오뱅크'] , [ '현대차', '현대모비스', '현대중공업']]\n",
        "for i in 관심종목 : \n",
        "  for j in i :\n",
        "    print(j)"
      ],
      "metadata": {
        "colab": {
          "base_uri": "https://localhost:8080/"
        },
        "id": "6wsNfDawz_fx",
        "outputId": "fabd0d50-7f7d-41b9-a116-be3eea6eb5e0"
      },
      "execution_count": 41,
      "outputs": [
        {
          "output_type": "stream",
          "name": "stdout",
          "text": [
            "삼성전자\n",
            "삼성SDI\n",
            "삼성중공업\n",
            "카카오\n",
            "카카오페이\n",
            "카카오뱅크\n",
            "현대차\n",
            "현대모비스\n",
            "현대중공업\n"
          ]
        }
      ]
    },
    {
      "cell_type": "code",
      "source": [
        "def 삼성전자_ntime(n) :\n",
        " for i in range(n):\n",
        "  print('삼성전자')\n",
        "\n",
        "삼성전자_ntime(3)"
      ],
      "metadata": {
        "colab": {
          "base_uri": "https://localhost:8080/"
        },
        "id": "3pFNbhPp0QXQ",
        "outputId": "2994e0ab-5ace-4f6b-8971-ac8d29fc25f3"
      },
      "execution_count": 57,
      "outputs": [
        {
          "output_type": "stream",
          "name": "stdout",
          "text": [
            "삼성전자\n",
            "삼성전자\n",
            "삼성전자\n"
          ]
        }
      ]
    }
  ]
}